{
 "cells": [
  {
   "cell_type": "markdown",
   "id": "eaf45455",
   "metadata": {},
   "source": [
    "## 2021 금융 데이터 경진대회 \n",
    "\n",
    "### 1. 대회 기간\n",
    "\n",
    "- 접수 : ~ 2021.07.12\n",
    "- 결과물 제출 : ~2021.09.06(월)\n",
    "\n",
    "\n",
    "\n",
    "### 2. 관련 링크 및 안내 내용물\n",
    "\n",
    "- [대회 신청 링크](https://www.findatacontest2021.com/index.php)\n",
    "- [샘플 데이터 링크](https://www.findatamall.or.kr/fsec/dataProd/generalDataProd.do?cmnx=44&sCharge=charge&sFree=free&sNego=nego&searchType=00&sKeyword=2021%EA%B8%88%EC%9C%B5%EB%8D%B0%EC%9D%B4%ED%84%B0%EA%B2%BD%EC%A7%84%EB%8C%80%ED%9A%8C&sTaxonomy=200&sOrderByType=orderByDate)\n",
    "- [금융데이터 거래소](https://www.findatamall.or.kr/fsec/main/main.do?cmnx=1)\n",
    "\n",
    "\n",
    "\n",
    "### 3. 선정 주제\n",
    "\n",
    "- 미정 (6월 4째주에 팀 회의 이후 주제 및 데이터 가공 방향 결정)\n",
    "\n",
    "#### 3-1 주제 선정 목적\n",
    "\n",
    "- 미정\n",
    "\n",
    "#### 3-2 예상 Insight\n",
    "\n",
    "- 미정\n",
    "\n",
    "### 4. 결과물 도출 일정\n",
    "\n",
    "- 6월 4째주 : 팀 주제 선정 및 금융 데이터 대회 접수\n",
    "- 7월 1째주 : 환경 설정 및 가공 방향 MD 작성, 사용할 ML 알고리즘 지정 (문서 제작 등)\n",
    "- 7월 2째주 ~ 8월 중순 : 결과물 제작\n",
    "- 8월 4째주 ~ 9월 5일 : 결과물 리뷰\n",
    "- 9월 6일 : 제출\n",
    "\n",
    "\n",
    "### 5. 활용 데이터\n",
    "\n",
    "- 미정\n"
   ]
  },
  {
   "cell_type": "code",
   "execution_count": 4,
   "id": "e87a7d90",
   "metadata": {},
   "outputs": [
    {
     "name": "stdout",
     "output_type": "stream",
     "text": [
      "Library Working\n"
     ]
    }
   ],
   "source": [
    "import numpy as np\n",
    "import pandas as pd\n",
    "import matplotlib.pyplot as plt\n",
    "%matplotlib inline\n",
    "\n",
    "import seaborn as sns\n",
    "\n",
    "print(\"Library Working\")"
   ]
  },
  {
   "cell_type": "code",
   "execution_count": null,
   "id": "41fc85f4",
   "metadata": {},
   "outputs": [],
   "source": []
  }
 ],
 "metadata": {
  "kernelspec": {
   "display_name": "Python 3",
   "language": "python",
   "name": "python3"
  },
  "language_info": {
   "codemirror_mode": {
    "name": "ipython",
    "version": 3
   },
   "file_extension": ".py",
   "mimetype": "text/x-python",
   "name": "python",
   "nbconvert_exporter": "python",
   "pygments_lexer": "ipython3",
   "version": "3.8.2"
  }
 },
 "nbformat": 4,
 "nbformat_minor": 5
}

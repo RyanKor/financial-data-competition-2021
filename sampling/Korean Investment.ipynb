{
 "cells": [
  {
   "cell_type": "markdown",
   "id": "8d96a8ad",
   "metadata": {},
   "source": [
    "# [2021금융데이터경진대회] 동학개미운동 신규 고객 투자 정보 (Sample)\n",
    "\n",
    "- [동학개미운동 신규 고객 투자 정보 거래소 페이지](https://www.findatamall.or.kr/fsec/dataProd/generalDataProdDetail.do?cmnx=44&goods_id=65be7bde-aec2-11eb-9f58-f220ef21bb88)\n",
    "\n",
    "- 데이터 가공 전 제공받는 데이터에 포함되는 필드 및 Feature 확인\n",
    "\n",
    "|필드명|\t필드형식\t| 필드설명|\n",
    "| --- | ---- |---- |\n",
    "|고객번호\t|텍스트\t|고객번호|\n",
    "|계좌번호\t|텍스트\t|계좌번호|\n",
    "|고객성별구분코드\t|텍스트\t|고객성별구분코드|\n",
    "|동일나이군구분코드\t|텍스트\t|동일나이군구분코드|\n",
    "|주소\t|텍스트\t|주소(시도)|\n",
    "|시군구\t|텍스트|\t주소(시군구)|\n",
    "|일자(등록)\t|날짜|\t고객등록일자|\n",
    "|일자2\t|날짜\t|계좌개설일자|\n",
    "|일자1\t|날짜\t|주문일자|\n",
    "|주문시각\t|시간\t|주문시각|\n",
    "|최초주문번호\t|숫자|\t최초주문번호|\n",
    "|주문번호\t|숫자|\t주문번호|\n",
    "|상품번호\t|텍스트\t|상품번호|\n",
    "|상품명\t|텍스트\t|상품명|\n",
    "|거래소1\t|텍스트\t|거래소구분코드|\n",
    "|매도매수구분코드\t|텍스트\t|매도매수구분코드|\n",
    "|주문구분코드\t|텍스트\t|주문구분코드|\n",
    "|거래소\t|텍스트\t|한국거래소호가조건코드|\n",
    "|실주문단가\t|숫자\t|실주문단가|\n",
    "|주문수량\t|숫자\t|주문수량|\n",
    "|정정취소구분코드\t|텍스트\t|정정취소구분코드|\n",
    "|정정확인수량\t|숫자\t|정정확인수량|\n",
    "|취소확인수량\t|숫자\t|취소확인수량|\n",
    "|총체결건수\t|숫자\t|총체결건수|\n",
    "|총체결수량\t|숫자\t|총체결수량|\n",
    "|총체결금액\t|숫자\t|총체결금액|\n",
    "|자동차이용여부3\t|텍스트\t|반대매매여부|\n",
    "|자동차이용여부2\t|텍스트\t|예약주문여부|\n",
    "|대출잔액\t|텍스트\t|대출유형코드|\n",
    "|일자\t|날짜\t|대출일자|\n",
    "|주문증거금율\t|숫자\t|주문증거금율|\n",
    "|전일종가\t|숫자\t|전일종가|\n",
    "|당일시가\t|숫자\t|당일시가|\n",
    "|일중고가\t|숫자\t|일중고가|\n",
    "|일중저가\t|숫자\t|일중저가|\n",
    "|당일종가\t|숫자\t|당일종가|\n",
    "|거래수량\t|숫자\t|거래수량|\n",
    "|거래대금\t|숫자\t|거래대금|\n",
    "|자동차이용여부1\t|텍스트|\t상한가여부|\n",
    "|자동차이용여부\t|텍스트\t|하한가여부|"
   ]
  },
  {
   "cell_type": "code",
   "execution_count": 20,
   "id": "f78140d1",
   "metadata": {},
   "outputs": [
    {
     "data": {
      "text/plain": [
       "Index(['고객번호', '계좌번호', '고객성별구분코드', '동일나이군구분코드', '주소(시도)', '주소(시군구)', '고객등록일자',\n",
       "       '계좌개설일자', '주문일자', '주문시각', '최초주문번호', '주문번호', '상품번호', '상품명', '거래소구분코드',\n",
       "       '매도매수구분코드', '주문구분코드', '한국거래소호가조건코드', '실주문단가', '주문수량', '정정취소구분코드',\n",
       "       '정정확인수량', '취소확인수량', '총체결건수', '총체결수량', '총체결금액', '반대매매여부', '예약주문여부',\n",
       "       '대출유형코드', '대출일자', '주문증거금율', '전일종가', '당일시가', '일중고가', '일중저가', '당일종가',\n",
       "       '거래수량', '거래대금', '상한가여부', '하한가여부'],\n",
       "      dtype='object')"
      ]
     },
     "execution_count": 20,
     "metadata": {},
     "output_type": "execute_result"
    }
   ],
   "source": [
    "import pandas as pd\n",
    "import matplotlib.pyplot as plt\n",
    "kor_invest = pd.read_excel('../data/2021_hantu.xlsx')\n",
    "kor_invest.columns\n",
    "# kor_invest['고객등록일자']"
   ]
  },
  {
   "cell_type": "code",
   "execution_count": 23,
   "id": "ff2e8d9c",
   "metadata": {},
   "outputs": [
    {
     "data": {
      "image/png": "[encoded data removed]",
      "text/plain": [
       "<Figure size 432x288 with 1 Axes>"
      ]
     },
     "metadata": {
      "needs_background": "light"
     },
     "output_type": "display_data"
    }
   ],
   "source": [
    "plt.scatter(kor_invest['고객등록일자'], kor_invest['계좌개설일자'])\n",
    "plt.show()"
   ]
  },
  {
   "cell_type": "code",
   "execution_count": null,
   "id": "ae8c2f32",
   "metadata": {},
   "outputs": [],
   "source": []
  }
 ],
 "metadata": {
  "kernelspec": {
   "display_name": "Python 3",
   "language": "python",
   "name": "python3"
  },
  "language_info": {
   "codemirror_mode": {
    "name": "ipython",
    "version": 3
   },
   "file_extension": ".py",
   "mimetype": "text/x-python",
   "name": "python",
   "nbconvert_exporter": "python",
   "pygments_lexer": "ipython3",
   "version": "3.8.2"
  }
 },
 "nbformat": 4,
 "nbformat_minor": 5
}
